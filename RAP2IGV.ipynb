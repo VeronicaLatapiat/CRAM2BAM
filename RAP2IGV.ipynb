{
 "cells": [
  {
   "cell_type": "code",
   "execution_count": null,
   "id": "a00a8d37",
   "metadata": {},
   "outputs": [],
   "source": [
    "conda update -n base -c defaults conda -y"
   ]
  },
  {
   "cell_type": "code",
   "execution_count": null,
   "id": "3abe4f09",
   "metadata": {},
   "outputs": [],
   "source": [
    "conda install -c bioconda bcftools -y"
   ]
  },
  {
   "cell_type": "markdown",
   "id": "8982af61",
   "metadata": {},
   "source": [
    "Sí, es posible realizar el procesamiento y análisis de variantes genéticas partiendo desde archivos CRAM de los pacientes. Los archivos CRAM son una alternativa comprimida y eficiente a los archivos BAM, que contienen los reads alineados a un genoma de referencia. Para utilizar archivos CRAM en el análisis de variantes genéticas y visualización de señales de reads en IGV, sigue estos pasos:"
   ]
  },
  {
   "cell_type": "markdown",
   "id": "07e3e078",
   "metadata": {},
   "source": [
    "Download CRAM"
   ]
  },
  {
   "cell_type": "code",
   "execution_count": null,
   "id": "f38007ae",
   "metadata": {},
   "outputs": [],
   "source": [
    "dx download Bulk/Exome\\ sequences/Exome\\ OQFE\\ CRAM\\ files/60/6003753_23143_0_0.cram"
   ]
  },
  {
   "cell_type": "code",
   "execution_count": null,
   "id": "5b231d95",
   "metadata": {},
   "outputs": [],
   "source": [
    "dx download Bulk/Exome\\ sequences/Exome\\ OQFE\\ CRAM\\ files/33/3369380_23143_0_0.cram"
   ]
  },
  {
   "cell_type": "code",
   "execution_count": null,
   "id": "73b870c9",
   "metadata": {},
   "outputs": [],
   "source": [
    "dx download Bulk/Exome\\ sequences/Exome\\ OQFE\\ CRAM\\ files/34/3482159_23143_0_0.cram"
   ]
  },
  {
   "cell_type": "markdown",
   "id": "bcd689cc",
   "metadata": {},
   "source": [
    "trio 2"
   ]
  },
  {
   "cell_type": "code",
   "execution_count": null,
   "id": "99e86372",
   "metadata": {},
   "outputs": [],
   "source": [
    "dx download Bulk/Exome\\ sequences/Exome\\ OQFE\\ CRAM\\ files/59/5962479_23143_0_0.cram"
   ]
  },
  {
   "cell_type": "code",
   "execution_count": null,
   "id": "2ef7c086",
   "metadata": {},
   "outputs": [],
   "source": [
    "dx download Bulk/Exome\\ sequences/Exome\\ OQFE\\ CRAM\\ files/14/1401203_23143_0_0.cram"
   ]
  },
  {
   "cell_type": "code",
   "execution_count": null,
   "id": "1c81fa9a",
   "metadata": {},
   "outputs": [],
   "source": [
    "dx download Bulk/Exome\\ sequences/Exome\\ OQFE\\ CRAM\\ files/54/5474815_23143_0_0.cram"
   ]
  },
  {
   "cell_type": "markdown",
   "id": "eb6c4e64",
   "metadata": {},
   "source": [
    "trio 3"
   ]
  },
  {
   "cell_type": "code",
   "execution_count": null,
   "id": "7e353f38",
   "metadata": {},
   "outputs": [],
   "source": [
    "dx download Bulk/Exome\\ sequences/Exome\\ OQFE\\ CRAM\\ files/59/5995563_23143_0_0.cram"
   ]
  },
  {
   "cell_type": "code",
   "execution_count": null,
   "id": "0a7c731b",
   "metadata": {},
   "outputs": [],
   "source": [
    "dx download Bulk/Exome\\ sequences/Exome\\ OQFE\\ CRAM\\ files/14/1482222_23143_0_0.cram"
   ]
  },
  {
   "cell_type": "code",
   "execution_count": null,
   "id": "1c12cc16",
   "metadata": {},
   "outputs": [],
   "source": [
    "dx download Bulk/Exome\\ sequences/Exome\\ OQFE\\ CRAM\\ files/34/3407982_23143_0_0.cram"
   ]
  },
  {
   "cell_type": "markdown",
   "id": "bfd61a9d",
   "metadata": {},
   "source": [
    "Conversión a BAM"
   ]
  },
  {
   "cell_type": "code",
   "execution_count": null,
   "id": "45a3958f",
   "metadata": {},
   "outputs": [],
   "source": [
    "curl -O https://ftp.ncbi.nlm.nih.gov/1000genomes/ftp/technical/reference/GRCh38_reference_genome/GRCh38_full_analysis_set_plus_decoy_hla.fa"
   ]
  },
  {
   "cell_type": "markdown",
   "id": "ef938320",
   "metadata": {},
   "source": [
    "verificar su contenido con el siguiente comando"
   ]
  },
  {
   "cell_type": "code",
   "execution_count": null,
   "id": "89f49b3b",
   "metadata": {},
   "outputs": [],
   "source": [
    "cat GRCh38_full_analysis_set_plus_decoy_hla.fa"
   ]
  },
  {
   "cell_type": "code",
   "execution_count": null,
   "id": "678516d0",
   "metadata": {},
   "outputs": [],
   "source": [
    "samtools faidx GRCh38_full_analysis_set_plus_decoy_hla.fa chr2 > chr2.fa\n",
    "samtools faidx GRCh38_full_analysis_set_plus_decoy_hla.fa chr10 > chr10.fa\n",
    "samtools faidx GRCh38_full_analysis_set_plus_decoy_hla.fa chr19 > chr19.fa\n",
    "samtools faidx GRCh38_full_analysis_set_plus_decoy_hla.fa chrX > chrX.fa"
   ]
  },
  {
   "cell_type": "code",
   "execution_count": null,
   "id": "e6d9652a",
   "metadata": {},
   "outputs": [],
   "source": [
    "cat chr2.fa chr10.fa chr19.fa chrX.fa > small.reference.fa"
   ]
  },
  {
   "cell_type": "code",
   "execution_count": null,
   "id": "1ad17861",
   "metadata": {},
   "outputs": [],
   "source": [
    "samtools view -b -T small.reference.fa -o bam_3369380_23143_0_0.bam 3369380_23143_0_0.cram"
   ]
  },
  {
   "cell_type": "code",
   "execution_count": null,
   "id": "0cbbec77",
   "metadata": {},
   "outputs": [],
   "source": [
    "samtools index bam_3369380_23143_0_0.bam"
   ]
  },
  {
   "cell_type": "code",
   "execution_count": null,
   "id": "5cbb2f7d",
   "metadata": {},
   "outputs": [],
   "source": [
    "samtools view -b -T small.reference.fa -o bam_3482159_23143_0_0.bam 3482159_23143_0_0.cram"
   ]
  },
  {
   "cell_type": "code",
   "execution_count": null,
   "id": "9a14f341",
   "metadata": {},
   "outputs": [],
   "source": [
    "samtools index bam_3482159_23143_0_0.bam"
   ]
  },
  {
   "cell_type": "code",
   "execution_count": null,
   "id": "57123ee5",
   "metadata": {},
   "outputs": [],
   "source": [
    "samtools view -b -T small.reference.fa -o bam_6003753_23143_0_0.bam 6003753_23143_0_0.cram"
   ]
  },
  {
   "cell_type": "code",
   "execution_count": null,
   "id": "397cb3df",
   "metadata": {},
   "outputs": [],
   "source": [
    "samtools index bam_6003753_23143_0_0.bam"
   ]
  },
  {
   "cell_type": "markdown",
   "id": "6fb1ae1d",
   "metadata": {},
   "source": [
    "Carga de Datos en IGV:\n",
    "Abre IGV y selecciona un genoma de referencia adecuado.\n",
    "Carga los archivos BAM resultantes de la conversión de los archivos CRAM en IGV para visualizar los reads alineados.\n"
   ]
  },
  {
   "cell_type": "markdown",
   "id": "f44ef4d0",
   "metadata": {},
   "source": [
    "Visualización en IGV:\n",
    "Explora las regiones de interés donde se encuentran las variantes genéticas.\n",
    "Utiliza las herramientas de zoom y navegación para examinar detalladamente las regiones específicas."
   ]
  },
  {
   "cell_type": "markdown",
   "id": "de78df40",
   "metadata": {},
   "source": [
    "Análisis de Variantes:\n",
    "Identifica las variantes genéticas en las regiones seleccionadas comparando los reads entre padres e hijos.\n",
    "Observa las diferencias y similitudes en las señales de los reads para comprender mejor las variantes presentes."
   ]
  }
 ],
 "metadata": {
  "kernelspec": {
   "display_name": "Python 3",
   "language": "python",
   "name": "python3"
  },
  "language_info": {
   "codemirror_mode": {
    "name": "ipython",
    "version": 3
   },
   "file_extension": ".py",
   "mimetype": "text/x-python",
   "name": "python",
   "nbconvert_exporter": "python",
   "pygments_lexer": "ipython3",
   "version": "3.8.8"
  }
 },
 "nbformat": 4,
 "nbformat_minor": 5
}
